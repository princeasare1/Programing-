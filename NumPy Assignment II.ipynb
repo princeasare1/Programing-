{
 "cells": [
  {
   "cell_type": "markdown",
   "id": "88bf81f3",
   "metadata": {},
   "source": [
    "# Question 1"
   ]
  },
  {
   "cell_type": "code",
   "execution_count": 4,
   "id": "1a00dbde",
   "metadata": {},
   "outputs": [
    {
     "name": "stdout",
     "output_type": "stream",
     "text": [
      "[ 9 10  1  2  7]\n"
     ]
    }
   ],
   "source": [
    "#Write a NumPy program to create a vector of length 5 filled with arbitrary integers from 0 to 10.\n",
    "import numpy as np\n",
    "\n",
    "vect = np.random.randint(low=0, high=11, size=5)\n",
    "print(vect)"
   ]
  },
  {
   "cell_type": "code",
   "execution_count": null,
   "id": "8aea79c3",
   "metadata": {},
   "outputs": [],
   "source": []
  },
  {
   "cell_type": "markdown",
   "id": "b8093f25",
   "metadata": {},
   "source": [
    "# Question2"
   ]
  },
  {
   "cell_type": "code",
   "execution_count": 5,
   "id": "fb8ddc92",
   "metadata": {},
   "outputs": [
    {
     "name": "stdout",
     "output_type": "stream",
     "text": [
      "[16 17 18 19 20 21 22 23 24 25 26 27 28 29 30 31 32 33 34 35 36 37 38 39\n",
      " 40 41 42 43 44 45 46 47 48 49 50 51 52 53 54]\n"
     ]
    }
   ],
   "source": [
    "#Write a NumPy program to create a vector with values ​​ranging from 15 to 55 and print all values​​except the first and last.\n",
    "\n",
    "vector = np.arange(15, 56)\n",
    "print(vector[1:-1])"
   ]
  },
  {
   "cell_type": "code",
   "execution_count": null,
   "id": "7347a750",
   "metadata": {},
   "outputs": [],
   "source": []
  },
  {
   "cell_type": "markdown",
   "id": "1366be6f",
   "metadata": {},
   "source": [
    "# QUESTION 3"
   ]
  },
  {
   "cell_type": "code",
   "execution_count": 6,
   "id": "f8021cb5",
   "metadata": {},
   "outputs": [],
   "source": [
    "#Write a NumPy program to create a random array with 1000 elements and compute the average, variance, standard deviation of the array elements.\n",
    "\n",
    "# Create random array with 1000 elements\n",
    "array = np.random.rand(1000)\n",
    "\n",
    "# Compute average, variance, and standard deviation\n",
    "average = np.mean(array)\n",
    "variance = np.var(array)\n",
    "std_dev = np.std(array)"
   ]
  },
  {
   "cell_type": "code",
   "execution_count": null,
   "id": "bca255a8",
   "metadata": {},
   "outputs": [],
   "source": []
  },
  {
   "cell_type": "code",
   "execution_count": 7,
   "id": "26b2d97f",
   "metadata": {},
   "outputs": [
    {
     "name": "stdout",
     "output_type": "stream",
     "text": [
      "Average:  0.47948533897449247\n",
      "Variance:  0.07996836316331399\n",
      "Standard Deviation:  0.2827867803899503\n"
     ]
    }
   ],
   "source": [
    "# Print results\n",
    "print(\"Average: \", average)\n",
    "print(\"Variance: \", variance)\n",
    "print(\"Standard Deviation: \", std_dev)"
   ]
  },
  {
   "cell_type": "code",
   "execution_count": null,
   "id": "dd0f7217",
   "metadata": {},
   "outputs": [],
   "source": []
  },
  {
   "cell_type": "markdown",
   "id": "74e5d438",
   "metadata": {},
   "source": [
    "# Question 4"
   ]
  },
  {
   "cell_type": "code",
   "execution_count": 9,
   "id": "7689d1e6",
   "metadata": {},
   "outputs": [],
   "source": [
    "#Write a NumPy program to calculate cumulative sum of the elements along a given axis, sum over rows for each of the 3 columns and sum over columns for each of the 2 rows of a given 3x3 array. \n",
    "\n",
    "# Create a 3x3 array\n",
    "arr = np.array([[1, 2, 3],\n",
    "                [4, 5, 6],\n",
    "                [7, 8, 9]])\n",
    "\n",
    "# Calculate cumulative sum along axis 0 (columns)\n",
    "cum_sum_axis_0 = np.cumsum(arr, axis=0)\n",
    "\n",
    "# Calculate cumulative sum along axis 1 (rows)\n",
    "cum_sum_axis_1 = np.cumsum(arr, axis=1)\n",
    "\n",
    "# Sum over rows for each of the 3 columns\n",
    "sum_columns = np.sum(arr, axis=0)\n",
    "\n",
    "# Sum over columns for each of the 2 rows\n",
    "sum_rows = np.sum(arr, axis=1)"
   ]
  },
  {
   "cell_type": "code",
   "execution_count": 10,
   "id": "25016fc7",
   "metadata": {},
   "outputs": [
    {
     "name": "stdout",
     "output_type": "stream",
     "text": [
      "Cumulative Sum along axis 0:\n",
      " [[ 1  2  3]\n",
      " [ 5  7  9]\n",
      " [12 15 18]]\n",
      "Cumulative Sum along axis 1:\n",
      " [[ 1  3  6]\n",
      " [ 4  9 15]\n",
      " [ 7 15 24]]\n",
      "Sum over Rows for each of the 3 Columns: [12 15 18]\n",
      "Sum over Columns for each of the 2 Rows: [ 6 15 24]\n"
     ]
    }
   ],
   "source": [
    "# Print results\n",
    "print(\"Cumulative Sum along axis 0:\\n\", cum_sum_axis_0)\n",
    "print(\"Cumulative Sum along axis 1:\\n\", cum_sum_axis_1)\n",
    "print(\"Sum over Rows for each of the 3 Columns:\", sum_columns)\n",
    "print(\"Sum over Columns for each of the 2 Rows:\", sum_rows)"
   ]
  },
  {
   "cell_type": "code",
   "execution_count": null,
   "id": "00ee55b6",
   "metadata": {},
   "outputs": [],
   "source": []
  },
  {
   "cell_type": "markdown",
   "id": "5e4d2948",
   "metadata": {},
   "source": [
    "# Question 5"
   ]
  },
  {
   "cell_type": "code",
   "execution_count": 11,
   "id": "c247154d",
   "metadata": {},
   "outputs": [],
   "source": [
    "#Write a NumPy program to compute the multiplication of two given matrixes.\n",
    "\n",
    "# Create first matrix with shape (2, 3)\n",
    "A = np.array([[1, 2, 3],\n",
    "              [4, 5, 6]])\n",
    "\n",
    "# Create second matrix with shape (3, 2)\n",
    "B = np.array([[7, 8],\n",
    "              [9, 10],\n",
    "              [11, 12]])\n",
    "\n",
    "# Compute multiplication of two matrices\n",
    "C = np.dot(A, B)"
   ]
  },
  {
   "cell_type": "code",
   "execution_count": 14,
   "id": "86acae6c",
   "metadata": {},
   "outputs": [
    {
     "name": "stdout",
     "output_type": "stream",
     "text": [
      "Resultant Matrix:\n",
      " [[ 58  64]\n",
      " [139 154]]\n"
     ]
    }
   ],
   "source": [
    "# Print result\n",
    "print(\"Resultant Matrix:\\n\", C)"
   ]
  },
  {
   "cell_type": "code",
   "execution_count": null,
   "id": "039d3c69",
   "metadata": {},
   "outputs": [],
   "source": []
  }
 ],
 "metadata": {
  "kernelspec": {
   "display_name": "Python 3 (ipykernel)",
   "language": "python",
   "name": "python3"
  },
  "language_info": {
   "codemirror_mode": {
    "name": "ipython",
    "version": 3
   },
   "file_extension": ".py",
   "mimetype": "text/x-python",
   "name": "python",
   "nbconvert_exporter": "python",
   "pygments_lexer": "ipython3",
   "version": "3.9.7"
  }
 },
 "nbformat": 4,
 "nbformat_minor": 5
}
